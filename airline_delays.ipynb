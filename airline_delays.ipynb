{
 "cells": [
  {
   "cell_type": "code",
   "execution_count": 1,
   "metadata": {},
   "outputs": [
    {
     "name": "stdout",
     "output_type": "stream",
     "text": [
      "Requirement already satisfied (use --upgrade to upgrade): tensorflow in /Users/johndehavilland/Library/Caches/AmlWorkbench/Python/lib/python3.5/site-packages\n",
      "Requirement already satisfied (use --upgrade to upgrade): protobuf>=3.3.0 in /Users/johndehavilland/Library/Caches/AmlWorkbench/Python/lib/python3.5/site-packages (from tensorflow)\n",
      "Requirement already satisfied (use --upgrade to upgrade): six>=1.10.0 in /Users/johndehavilland/Library/Caches/AmlWorkbench/Python/lib/python3.5/site-packages (from tensorflow)\n",
      "Requirement already satisfied (use --upgrade to upgrade): tensorflow-tensorboard<0.5.0,>=0.4.0rc1 in /Users/johndehavilland/Library/Caches/AmlWorkbench/Python/lib/python3.5/site-packages (from tensorflow)\n",
      "Requirement already satisfied (use --upgrade to upgrade): wheel>=0.26 in /Users/johndehavilland/Library/Caches/AmlWorkbench/Python/lib/python3.5/site-packages (from tensorflow)\n",
      "Requirement already satisfied (use --upgrade to upgrade): numpy>=1.12.1 in /Users/johndehavilland/Library/Caches/AmlWorkbench/Python/lib/python3.5/site-packages (from tensorflow)\n",
      "Requirement already satisfied (use --upgrade to upgrade): enum34>=1.1.6 in /Users/johndehavilland/Library/Caches/AmlWorkbench/Python/lib/python3.5/site-packages (from tensorflow)\n",
      "Requirement already satisfied (use --upgrade to upgrade): setuptools in /Users/johndehavilland/Library/Caches/AmlWorkbench/Python/lib/python3.5/site-packages (from protobuf>=3.3.0->tensorflow)\n",
      "Requirement already satisfied (use --upgrade to upgrade): werkzeug>=0.11.10 in /Users/johndehavilland/Library/Caches/AmlWorkbench/Python/lib/python3.5/site-packages (from tensorflow-tensorboard<0.5.0,>=0.4.0rc1->tensorflow)\n",
      "Requirement already satisfied (use --upgrade to upgrade): html5lib==0.9999999 in /Users/johndehavilland/Library/Caches/AmlWorkbench/Python/lib/python3.5/site-packages (from tensorflow-tensorboard<0.5.0,>=0.4.0rc1->tensorflow)\n",
      "Requirement already satisfied (use --upgrade to upgrade): bleach==1.5.0 in /Users/johndehavilland/Library/Caches/AmlWorkbench/Python/lib/python3.5/site-packages (from tensorflow-tensorboard<0.5.0,>=0.4.0rc1->tensorflow)\n",
      "Requirement already satisfied (use --upgrade to upgrade): markdown>=2.6.8 in /Users/johndehavilland/Library/Caches/AmlWorkbench/Python/lib/python3.5/site-packages (from tensorflow-tensorboard<0.5.0,>=0.4.0rc1->tensorflow)\n",
      "\u001b[33mYou are using pip version 8.1.2, however version 9.0.1 is available.\n",
      "You should consider upgrading via the 'pip install --upgrade pip' command.\u001b[0m\n"
     ]
    }
   ],
   "source": [
    "# Use the Azure Machine Learning data collector to log various metrics\n",
    "from azureml.logging import get_azureml_logger\n",
    "logger = get_azureml_logger()\n",
    "!pip install tensorflow\n"
   ]
  },
  {
   "cell_type": "code",
   "execution_count": 2,
   "metadata": {},
   "outputs": [],
   "source": [
    "# Use Azure Machine Learning history magic to control history collection\n",
    "# History is off by default, options are \"on\", \"off\", or \"show\"\n",
    "# %azureml history on"
   ]
  },
  {
   "cell_type": "code",
   "execution_count": 2,
   "metadata": {},
   "outputs": [
    {
     "name": "stderr",
     "output_type": "stream",
     "text": [
      "Using TensorFlow backend.\n"
     ]
    }
   ],
   "source": [
    "import numpy as np\n",
    "import pandas as pd\n",
    "import itertools\n",
    "\n",
    "from sklearn.preprocessing import LabelBinarizer, LabelEncoder\n",
    "from sklearn.metrics import confusion_matrix\n",
    "\n",
    "from keras.models import Sequential\n",
    "from keras.layers import Dense, Activation, Dropout\n",
    "from keras import utils\n",
    "\n",
    "# Use the Azure Machine Learning data preparation package\n",
    "from azureml.dataprep import package"
   ]
  },
  {
   "cell_type": "code",
   "execution_count": 3,
   "metadata": {},
   "outputs": [
    {
     "data": {
      "text/html": [
       "<div>\n",
       "<table border=\"1\" class=\"dataframe\">\n",
       "  <thead>\n",
       "    <tr style=\"text-align: right;\">\n",
       "      <th></th>\n",
       "      <th>ActualElapsedTime</th>\n",
       "      <th>AirTime</th>\n",
       "      <th>ArrDelay</th>\n",
       "      <th>ArrTime</th>\n",
       "      <th>DayOfWeek</th>\n",
       "      <th>DayofMonth</th>\n",
       "      <th>DepDelay</th>\n",
       "      <th>DepTime</th>\n",
       "      <th>Dest</th>\n",
       "      <th>Distance</th>\n",
       "      <th>Month</th>\n",
       "      <th>Origin</th>\n",
       "      <th>TaxiIn</th>\n",
       "      <th>TaxiOut</th>\n",
       "      <th>UniqueCarrier</th>\n",
       "      <th>Year</th>\n",
       "    </tr>\n",
       "  </thead>\n",
       "  <tbody>\n",
       "    <tr>\n",
       "      <th>0</th>\n",
       "      <td>128.0</td>\n",
       "      <td>116.0</td>\n",
       "      <td>-14.0</td>\n",
       "      <td>2211.0</td>\n",
       "      <td>4.0</td>\n",
       "      <td>3.0</td>\n",
       "      <td>8.0</td>\n",
       "      <td>2003.0</td>\n",
       "      <td>TPA</td>\n",
       "      <td>810.0</td>\n",
       "      <td>1.0</td>\n",
       "      <td>IAD</td>\n",
       "      <td>4.0</td>\n",
       "      <td>8.0</td>\n",
       "      <td>WN</td>\n",
       "      <td>2008.0</td>\n",
       "    </tr>\n",
       "    <tr>\n",
       "      <th>1</th>\n",
       "      <td>128.0</td>\n",
       "      <td>113.0</td>\n",
       "      <td>2.0</td>\n",
       "      <td>1002.0</td>\n",
       "      <td>4.0</td>\n",
       "      <td>3.0</td>\n",
       "      <td>19.0</td>\n",
       "      <td>754.0</td>\n",
       "      <td>TPA</td>\n",
       "      <td>810.0</td>\n",
       "      <td>1.0</td>\n",
       "      <td>IAD</td>\n",
       "      <td>5.0</td>\n",
       "      <td>10.0</td>\n",
       "      <td>WN</td>\n",
       "      <td>2008.0</td>\n",
       "    </tr>\n",
       "    <tr>\n",
       "      <th>2</th>\n",
       "      <td>96.0</td>\n",
       "      <td>76.0</td>\n",
       "      <td>14.0</td>\n",
       "      <td>804.0</td>\n",
       "      <td>4.0</td>\n",
       "      <td>3.0</td>\n",
       "      <td>8.0</td>\n",
       "      <td>628.0</td>\n",
       "      <td>BWI</td>\n",
       "      <td>515.0</td>\n",
       "      <td>1.0</td>\n",
       "      <td>IND</td>\n",
       "      <td>3.0</td>\n",
       "      <td>17.0</td>\n",
       "      <td>WN</td>\n",
       "      <td>2008.0</td>\n",
       "    </tr>\n",
       "    <tr>\n",
       "      <th>3</th>\n",
       "      <td>90.0</td>\n",
       "      <td>77.0</td>\n",
       "      <td>34.0</td>\n",
       "      <td>1959.0</td>\n",
       "      <td>4.0</td>\n",
       "      <td>3.0</td>\n",
       "      <td>34.0</td>\n",
       "      <td>1829.0</td>\n",
       "      <td>BWI</td>\n",
       "      <td>515.0</td>\n",
       "      <td>1.0</td>\n",
       "      <td>IND</td>\n",
       "      <td>3.0</td>\n",
       "      <td>10.0</td>\n",
       "      <td>WN</td>\n",
       "      <td>2008.0</td>\n",
       "    </tr>\n",
       "    <tr>\n",
       "      <th>4</th>\n",
       "      <td>101.0</td>\n",
       "      <td>87.0</td>\n",
       "      <td>11.0</td>\n",
       "      <td>2121.0</td>\n",
       "      <td>4.0</td>\n",
       "      <td>3.0</td>\n",
       "      <td>25.0</td>\n",
       "      <td>1940.0</td>\n",
       "      <td>JAX</td>\n",
       "      <td>688.0</td>\n",
       "      <td>1.0</td>\n",
       "      <td>IND</td>\n",
       "      <td>4.0</td>\n",
       "      <td>10.0</td>\n",
       "      <td>WN</td>\n",
       "      <td>2008.0</td>\n",
       "    </tr>\n",
       "    <tr>\n",
       "      <th>5</th>\n",
       "      <td>240.0</td>\n",
       "      <td>230.0</td>\n",
       "      <td>57.0</td>\n",
       "      <td>2037.0</td>\n",
       "      <td>4.0</td>\n",
       "      <td>3.0</td>\n",
       "      <td>67.0</td>\n",
       "      <td>1937.0</td>\n",
       "      <td>LAS</td>\n",
       "      <td>1591.0</td>\n",
       "      <td>1.0</td>\n",
       "      <td>IND</td>\n",
       "      <td>3.0</td>\n",
       "      <td>7.0</td>\n",
       "      <td>WN</td>\n",
       "      <td>2008.0</td>\n",
       "    </tr>\n",
       "    <tr>\n",
       "      <th>6</th>\n",
       "      <td>130.0</td>\n",
       "      <td>106.0</td>\n",
       "      <td>1.0</td>\n",
       "      <td>916.0</td>\n",
       "      <td>4.0</td>\n",
       "      <td>3.0</td>\n",
       "      <td>6.0</td>\n",
       "      <td>706.0</td>\n",
       "      <td>MCO</td>\n",
       "      <td>828.0</td>\n",
       "      <td>1.0</td>\n",
       "      <td>IND</td>\n",
       "      <td>5.0</td>\n",
       "      <td>19.0</td>\n",
       "      <td>WN</td>\n",
       "      <td>2008.0</td>\n",
       "    </tr>\n",
       "    <tr>\n",
       "      <th>7</th>\n",
       "      <td>121.0</td>\n",
       "      <td>107.0</td>\n",
       "      <td>80.0</td>\n",
       "      <td>1845.0</td>\n",
       "      <td>4.0</td>\n",
       "      <td>3.0</td>\n",
       "      <td>94.0</td>\n",
       "      <td>1644.0</td>\n",
       "      <td>MCO</td>\n",
       "      <td>828.0</td>\n",
       "      <td>1.0</td>\n",
       "      <td>IND</td>\n",
       "      <td>6.0</td>\n",
       "      <td>8.0</td>\n",
       "      <td>WN</td>\n",
       "      <td>2008.0</td>\n",
       "    </tr>\n",
       "    <tr>\n",
       "      <th>8</th>\n",
       "      <td>52.0</td>\n",
       "      <td>37.0</td>\n",
       "      <td>11.0</td>\n",
       "      <td>1021.0</td>\n",
       "      <td>4.0</td>\n",
       "      <td>3.0</td>\n",
       "      <td>9.0</td>\n",
       "      <td>1029.0</td>\n",
       "      <td>MDW</td>\n",
       "      <td>162.0</td>\n",
       "      <td>1.0</td>\n",
       "      <td>IND</td>\n",
       "      <td>6.0</td>\n",
       "      <td>9.0</td>\n",
       "      <td>WN</td>\n",
       "      <td>2008.0</td>\n",
       "    </tr>\n",
       "    <tr>\n",
       "      <th>9</th>\n",
       "      <td>228.0</td>\n",
       "      <td>213.0</td>\n",
       "      <td>15.0</td>\n",
       "      <td>1640.0</td>\n",
       "      <td>4.0</td>\n",
       "      <td>3.0</td>\n",
       "      <td>27.0</td>\n",
       "      <td>1452.0</td>\n",
       "      <td>PHX</td>\n",
       "      <td>1489.0</td>\n",
       "      <td>1.0</td>\n",
       "      <td>IND</td>\n",
       "      <td>7.0</td>\n",
       "      <td>8.0</td>\n",
       "      <td>WN</td>\n",
       "      <td>2008.0</td>\n",
       "    </tr>\n",
       "  </tbody>\n",
       "</table>\n",
       "</div>"
      ],
      "text/plain": [
       "   ActualElapsedTime  AirTime  ArrDelay  ArrTime  DayOfWeek  DayofMonth  \\\n",
       "0              128.0    116.0     -14.0   2211.0        4.0         3.0   \n",
       "1              128.0    113.0       2.0   1002.0        4.0         3.0   \n",
       "2               96.0     76.0      14.0    804.0        4.0         3.0   \n",
       "3               90.0     77.0      34.0   1959.0        4.0         3.0   \n",
       "4              101.0     87.0      11.0   2121.0        4.0         3.0   \n",
       "5              240.0    230.0      57.0   2037.0        4.0         3.0   \n",
       "6              130.0    106.0       1.0    916.0        4.0         3.0   \n",
       "7              121.0    107.0      80.0   1845.0        4.0         3.0   \n",
       "8               52.0     37.0      11.0   1021.0        4.0         3.0   \n",
       "9              228.0    213.0      15.0   1640.0        4.0         3.0   \n",
       "\n",
       "   DepDelay  DepTime Dest  Distance  Month Origin  TaxiIn  TaxiOut  \\\n",
       "0       8.0   2003.0  TPA     810.0    1.0    IAD     4.0      8.0   \n",
       "1      19.0    754.0  TPA     810.0    1.0    IAD     5.0     10.0   \n",
       "2       8.0    628.0  BWI     515.0    1.0    IND     3.0     17.0   \n",
       "3      34.0   1829.0  BWI     515.0    1.0    IND     3.0     10.0   \n",
       "4      25.0   1940.0  JAX     688.0    1.0    IND     4.0     10.0   \n",
       "5      67.0   1937.0  LAS    1591.0    1.0    IND     3.0      7.0   \n",
       "6       6.0    706.0  MCO     828.0    1.0    IND     5.0     19.0   \n",
       "7      94.0   1644.0  MCO     828.0    1.0    IND     6.0      8.0   \n",
       "8       9.0   1029.0  MDW     162.0    1.0    IND     6.0      9.0   \n",
       "9      27.0   1452.0  PHX    1489.0    1.0    IND     7.0      8.0   \n",
       "\n",
       "  UniqueCarrier    Year  \n",
       "0            WN  2008.0  \n",
       "1            WN  2008.0  \n",
       "2            WN  2008.0  \n",
       "3            WN  2008.0  \n",
       "4            WN  2008.0  \n",
       "5            WN  2008.0  \n",
       "6            WN  2008.0  \n",
       "7            WN  2008.0  \n",
       "8            WN  2008.0  \n",
       "9            WN  2008.0  "
      ]
     },
     "execution_count": 3,
     "metadata": {},
     "output_type": "execute_result"
    }
   ],
   "source": [
    "# This call will load the referenced package and return a DataFrame.\n",
    "# If run in a PySpark environment, this call returns a\n",
    "# Spark DataFrame. If not, it will return a Pandas DataFrame.\n",
    "df = package.run('prep_airline_data.dprep', dataflow_idx=0)\n",
    "\n",
    "# Remove this line and add code that uses the DataFrame\n",
    "df.head(10)"
   ]
  },
  {
   "cell_type": "code",
   "execution_count": 9,
   "metadata": {},
   "outputs": [
    {
     "name": "stdout",
     "output_type": "stream",
     "text": [
      "Train size: 7975\n",
      "Test size: 1994\n"
     ]
    }
   ],
   "source": [
    "train_size = int(len(df) * .8)\n",
    "print (\"Train size: %d\" % train_size)\n",
    "print (\"Test size: %d\" % (len(df) - train_size))\n"
   ]
  },
  {
   "cell_type": "code",
   "execution_count": 10,
   "metadata": {},
   "outputs": [
    {
     "data": {
      "text/plain": [
       "9969"
      ]
     },
     "execution_count": 10,
     "metadata": {},
     "output_type": "execute_result"
    }
   ],
   "source": [
    "#is it delayed?\n",
    "#lets add a delayed flag if arrdelay > 15\n",
    "\n",
    "df['delayed'] = np.where(df['ArrDelay']>=15, 1, 0)\n",
    "len(df)"
   ]
  },
  {
   "cell_type": "code",
   "execution_count": 11,
   "metadata": {},
   "outputs": [
    {
     "ename": "AttributeError",
     "evalue": "'DataFrame' object has no attribute 'Cancelled'",
     "output_type": "error",
     "traceback": [
      "\u001b[0;31m---------------------------------------------------------------------------\u001b[0m",
      "\u001b[0;31mAttributeError\u001b[0m                            Traceback (most recent call last)",
      "\u001b[0;32m<ipython-input-11-f3d6f18a9a8b>\u001b[0m in \u001b[0;36m<module>\u001b[0;34m()\u001b[0m\n\u001b[1;32m      1\u001b[0m \u001b[0;31m#remove where cancelled\u001b[0m\u001b[0;34m\u001b[0m\u001b[0;34m\u001b[0m\u001b[0m\n\u001b[0;32m----> 2\u001b[0;31m \u001b[0mdf\u001b[0m \u001b[0;34m=\u001b[0m \u001b[0mdf\u001b[0m\u001b[0;34m.\u001b[0m\u001b[0mdrop\u001b[0m\u001b[0;34m(\u001b[0m\u001b[0mdf\u001b[0m\u001b[0;34m[\u001b[0m\u001b[0mdf\u001b[0m\u001b[0;34m.\u001b[0m\u001b[0mCancelled\u001b[0m \u001b[0;34m==\u001b[0m \u001b[0;36m1.0\u001b[0m\u001b[0;34m]\u001b[0m\u001b[0;34m.\u001b[0m\u001b[0mindex\u001b[0m\u001b[0;34m)\u001b[0m\u001b[0;34m\u001b[0m\u001b[0m\n\u001b[0m\u001b[1;32m      3\u001b[0m \u001b[0mlen\u001b[0m\u001b[0;34m(\u001b[0m\u001b[0mdf\u001b[0m\u001b[0;34m)\u001b[0m\u001b[0;34m\u001b[0m\u001b[0m\n",
      "\u001b[0;32m~/Library/Caches/AmlWorkbench/Python/lib/python3.5/site-packages/pandas/core/generic.py\u001b[0m in \u001b[0;36m__getattr__\u001b[0;34m(self, name)\u001b[0m\n\u001b[1;32m   2742\u001b[0m             \u001b[0;32mif\u001b[0m \u001b[0mname\u001b[0m \u001b[0;32min\u001b[0m \u001b[0mself\u001b[0m\u001b[0;34m.\u001b[0m\u001b[0m_info_axis\u001b[0m\u001b[0;34m:\u001b[0m\u001b[0;34m\u001b[0m\u001b[0m\n\u001b[1;32m   2743\u001b[0m                 \u001b[0;32mreturn\u001b[0m \u001b[0mself\u001b[0m\u001b[0;34m[\u001b[0m\u001b[0mname\u001b[0m\u001b[0;34m]\u001b[0m\u001b[0;34m\u001b[0m\u001b[0m\n\u001b[0;32m-> 2744\u001b[0;31m             \u001b[0;32mreturn\u001b[0m \u001b[0mobject\u001b[0m\u001b[0;34m.\u001b[0m\u001b[0m__getattribute__\u001b[0m\u001b[0;34m(\u001b[0m\u001b[0mself\u001b[0m\u001b[0;34m,\u001b[0m \u001b[0mname\u001b[0m\u001b[0;34m)\u001b[0m\u001b[0;34m\u001b[0m\u001b[0m\n\u001b[0m\u001b[1;32m   2745\u001b[0m \u001b[0;34m\u001b[0m\u001b[0m\n\u001b[1;32m   2746\u001b[0m     \u001b[0;32mdef\u001b[0m \u001b[0m__setattr__\u001b[0m\u001b[0;34m(\u001b[0m\u001b[0mself\u001b[0m\u001b[0;34m,\u001b[0m \u001b[0mname\u001b[0m\u001b[0;34m,\u001b[0m \u001b[0mvalue\u001b[0m\u001b[0;34m)\u001b[0m\u001b[0;34m:\u001b[0m\u001b[0;34m\u001b[0m\u001b[0m\n",
      "\u001b[0;31mAttributeError\u001b[0m: 'DataFrame' object has no attribute 'Cancelled'"
     ]
    }
   ],
   "source": [
    "#remove where cancelled\n",
    "df = df.drop(df[df.Cancelled == 1.0].index)\n",
    "len(df)"
   ]
  },
  {
   "cell_type": "code",
   "execution_count": 12,
   "metadata": {},
   "outputs": [],
   "source": [
    "data = df[df.columns[:-1]]\n",
    "label = df[\"delayed\"]\n"
   ]
  },
  {
   "cell_type": "code",
   "execution_count": 13,
   "metadata": {},
   "outputs": [
    {
     "data": {
      "text/plain": [
       "0    0\n",
       "1    0\n",
       "2    0\n",
       "3    1\n",
       "4    0\n",
       "5    1\n",
       "6    0\n",
       "7    1\n",
       "8    0\n",
       "9    1\n",
       "Name: delayed, dtype: int64"
      ]
     },
     "execution_count": 13,
     "metadata": {},
     "output_type": "execute_result"
    }
   ],
   "source": [
    "label.head(10)"
   ]
  },
  {
   "cell_type": "code",
   "execution_count": 14,
   "metadata": {},
   "outputs": [],
   "source": [
    "train_data = data[:train_size]\n",
    "train_label = label[:train_size]\n",
    "test_data = data[train_size:]\n",
    "test_label = label[train_size:]"
   ]
  },
  {
   "cell_type": "code",
   "execution_count": 15,
   "metadata": {},
   "outputs": [],
   "source": [
    "#create hot-encode for airline, origin and destination"
   ]
  },
  {
   "cell_type": "code",
   "execution_count": 16,
   "metadata": {},
   "outputs": [],
   "source": [
    "label_encoder = LabelEncoder()\n",
    "origin = train_data.Origin\n",
    "dest = train_data.Dest\n",
    "#tailnum = train_data.TailNum\n",
    "carrier = train_data.UniqueCarrier\n",
    "\n",
    "train_data[\"origin_enc\"] = label_encoder.fit_transform(origin)\n",
    "train_data[\"dest_enc\"] = label_encoder.fit_transform(dest)\n",
    "#train_data[\"tailnum_enc\"] = label_encoder.fit_transform(tailnum)\n",
    "train_data[\"carrier_enc\"] = label_encoder.fit_transform(carrier)\n",
    "\n",
    "train_data = train_data.drop(\"Origin\", 1)\n",
    "\n",
    "train_data = train_data.drop(\"Dest\", 1)\n",
    "\n",
    "#train_data = train_data.drop(\"TailNum\", 1)\n",
    "\n",
    "train_data = train_data.drop(\"UniqueCarrier\", 1)\n",
    "\n"
   ]
  },
  {
   "cell_type": "code",
   "execution_count": 17,
   "metadata": {},
   "outputs": [],
   "source": [
    "origin = test_data.Origin\n",
    "dest = test_data.Dest\n",
    "#tailnum = test_data.TailNum\n",
    "carrier = test_data.UniqueCarrier\n",
    "\n",
    "test_data[\"origin_enc\"] = label_encoder.fit_transform(origin)\n",
    "test_data[\"dest_enc\"] = label_encoder.fit_transform(dest)\n",
    "#test_data[\"tailnum_enc\"] = label_encoder.fit_transform(tailnum)\n",
    "test_data[\"carrier_enc\"] = label_encoder.fit_transform(carrier)\n",
    "\n",
    "test_data = test_data.drop(\"Origin\", 1)\n",
    "\n",
    "test_data = test_data.drop(\"Dest\", 1)\n",
    "\n",
    "#test_data = test_data.drop(\"TailNum\", 1)\n",
    "\n",
    "test_data = test_data.drop(\"UniqueCarrier\", 1)"
   ]
  },
  {
   "cell_type": "code",
   "execution_count": 18,
   "metadata": {},
   "outputs": [
    {
     "data": {
      "text/plain": [
       "(7975, 16)"
      ]
     },
     "execution_count": 18,
     "metadata": {},
     "output_type": "execute_result"
    }
   ],
   "source": [
    "train_data.shape"
   ]
  },
  {
   "cell_type": "code",
   "execution_count": 19,
   "metadata": {},
   "outputs": [],
   "source": [
    "num_classes = np.max(train_label) + 1\n",
    "train_label = utils.to_categorical(train_label, num_classes)\n",
    "test_label = utils.to_categorical(test_label, num_classes)"
   ]
  },
  {
   "cell_type": "code",
   "execution_count": 22,
   "metadata": {},
   "outputs": [],
   "source": [
    "#build model\n",
    "# Build the model\n",
    "# lets build a sequential model\n",
    "\n",
    "batch_size = 32\n",
    "epochs = 10\n",
    "\n",
    "model = Sequential()\n",
    "\n",
    "#first layer defines the shape of the input\n",
    "model.add(Dense(512, input_shape=(16,)))\n",
    "\n",
    "#then add a layer defining the activation function - relu is on of the most popular\n",
    "#activation - should the neuron be fired or not - relu is quite efficient.\n",
    "\n",
    "model.add(Activation('relu'))\n",
    "\n",
    "# add a dropout layer. This is done to prevent overfitting - we discount a % of neurons\n",
    "model.add(Dropout(0.5))\n",
    "\n",
    "#here we define the output layer\n",
    "#A dense layer is a classic fully connected neural network layer : each input node is connected to each output node.\n",
    "model.add(Dense(2))\n",
    "\n",
    "#for this layer use the softmax activation function\n",
    "#softmax will assign a propability to each tag (total = 1)\n",
    "model.add(Activation('softmax'))\n",
    "\n",
    "#now we compile the model\n",
    "#optimizer is the function used to search for the right weights\n",
    "#here we are using Adaptive Moment Estimation (Adam) that also uses adaptive learning rates\n",
    "#The loss function, also called the objective function is the evaluation of the model used by the optimizer to navigate the weight space.\n",
    "#only accuracy is supported at the moment for metrics.\n",
    "model.compile(loss='categorical_crossentropy',\n",
    "              optimizer='adam',\n",
    "              metrics=['accuracy'])"
   ]
  },
  {
   "cell_type": "code",
   "execution_count": 23,
   "metadata": {},
   "outputs": [
    {
     "name": "stdout",
     "output_type": "stream",
     "text": [
      "Train on 7177 samples, validate on 798 samples\n",
      "Epoch 1/10\n",
      "7177/7177 [==============================] - 1s 185us/step - loss: 6.1722 - acc: 0.6167 - val_loss: 7.7157 - val_acc: 0.5213\n",
      "Epoch 2/10\n",
      "7177/7177 [==============================] - 1s 88us/step - loss: 6.1647 - acc: 0.6175 - val_loss: 7.7157 - val_acc: 0.5213\n",
      "Epoch 3/10\n",
      "7177/7177 [==============================] - 1s 86us/step - loss: 6.1647 - acc: 0.6175 - val_loss: 7.7157 - val_acc: 0.5213\n",
      "Epoch 4/10\n",
      "7177/7177 [==============================] - 1s 83us/step - loss: 6.1657 - acc: 0.6174 - val_loss: 7.7157 - val_acc: 0.5213\n",
      "Epoch 5/10\n",
      "7177/7177 [==============================] - 1s 88us/step - loss: 6.1647 - acc: 0.6175 - val_loss: 7.7157 - val_acc: 0.5213\n",
      "Epoch 6/10\n",
      "7177/7177 [==============================] - 1s 105us/step - loss: 6.1647 - acc: 0.6175 - val_loss: 7.7157 - val_acc: 0.5213\n",
      "Epoch 7/10\n",
      "7177/7177 [==============================] - 1s 95us/step - loss: 6.1647 - acc: 0.6175 - val_loss: 7.7157 - val_acc: 0.5213\n",
      "Epoch 8/10\n",
      "7177/7177 [==============================] - 1s 89us/step - loss: 6.1647 - acc: 0.6175 - val_loss: 7.7157 - val_acc: 0.5213\n",
      "Epoch 9/10\n",
      "7177/7177 [==============================] - 1s 88us/step - loss: 6.1647 - acc: 0.6175 - val_loss: 7.7157 - val_acc: 0.5213\n",
      "Epoch 10/10\n",
      "7177/7177 [==============================] - 1s 83us/step - loss: 6.1647 - acc: 0.6175 - val_loss: 7.7157 - val_acc: 0.5213\n"
     ]
    }
   ],
   "source": [
    "\n",
    "history = model.fit(train_data, train_label,\n",
    "                    batch_size=batch_size,\n",
    "                    epochs=epochs,\n",
    "                    verbose=1,\n",
    "                    validation_split=0.1)"
   ]
  },
  {
   "cell_type": "code",
   "execution_count": 24,
   "metadata": {},
   "outputs": [
    {
     "name": "stdout",
     "output_type": "stream",
     "text": [
      "1994/1994 [==============================] - 0s 40us/step\n",
      "Test score: 8.4874625689\n",
      "Test accuracy: 0.473420260842\n"
     ]
    }
   ],
   "source": [
    "score = model.evaluate(test_data, test_label,\n",
    "                       batch_size=batch_size, verbose=1)\n",
    "print('Test score:', score[0])\n",
    "print('Test accuracy:', score[1])"
   ]
  },
  {
   "cell_type": "code",
   "execution_count": 25,
   "metadata": {},
   "outputs": [
    {
     "data": {
      "text/plain": [
       "ActualElapsedTime     112.0\n",
       "AirTime               101.0\n",
       "ArrDelay               14.0\n",
       "ArrTime              1639.0\n",
       "DayOfWeek               2.0\n",
       "DayofMonth              8.0\n",
       "DepDelay               22.0\n",
       "DepTime              1347.0\n",
       "Distance              816.0\n",
       "Month                   1.0\n",
       "TaxiIn                  4.0\n",
       "TaxiOut                 7.0\n",
       "Year                 2008.0\n",
       "origin_enc             19.0\n",
       "dest_enc               26.0\n",
       "carrier_enc             0.0\n",
       "Name: 7976, dtype: float64"
      ]
     },
     "execution_count": 25,
     "metadata": {},
     "output_type": "execute_result"
    }
   ],
   "source": [
    "test_data.iloc[1]"
   ]
  },
  {
   "cell_type": "code",
   "execution_count": 26,
   "metadata": {},
   "outputs": [
    {
     "name": "stdout",
     "output_type": "stream",
     "text": [
      "predicted: 1 actual: 0\n",
      "predicted: 1 actual: 0\n",
      "predicted: 1 actual: 0\n",
      "predicted: 1 actual: 1\n",
      "predicted: 1 actual: 0\n",
      "predicted: 1 actual: 0\n",
      "predicted: 1 actual: 0\n",
      "predicted: 1 actual: 1\n",
      "predicted: 1 actual: 1\n",
      "predicted: 1 actual: 0\n",
      "predicted: 1 actual: 1\n",
      "predicted: 1 actual: 1\n",
      "predicted: 1 actual: 0\n",
      "predicted: 1 actual: 1\n",
      "predicted: 1 actual: 0\n",
      "predicted: 1 actual: 1\n",
      "predicted: 1 actual: 1\n",
      "predicted: 1 actual: 1\n",
      "predicted: 1 actual: 0\n",
      "predicted: 1 actual: 0\n"
     ]
    }
   ],
   "source": [
    "for i in range(20):\n",
    "    prediction = model.predict(np.array([test_data.iloc[i]]))\n",
    "    predicted_label = np.argmax(prediction)\n",
    "    print(\"predicted: %s actual: %s\" % (predicted_label, np.argmax(test_label[i])))"
   ]
  },
  {
   "cell_type": "code",
   "execution_count": null,
   "metadata": {},
   "outputs": [],
   "source": []
  }
 ],
 "metadata": {
  "kernelspec": {
   "display_name": "airline_delays local",
   "language": "python",
   "name": "airline_delays_local"
  },
  "language_info": {
   "codemirror_mode": {
    "name": "ipython",
    "version": 3
   },
   "file_extension": ".py",
   "mimetype": "text/x-python",
   "name": "python",
   "nbconvert_exporter": "python",
   "pygments_lexer": "ipython3",
   "version": "3.5.2"
  }
 },
 "nbformat": 4,
 "nbformat_minor": 2
}
